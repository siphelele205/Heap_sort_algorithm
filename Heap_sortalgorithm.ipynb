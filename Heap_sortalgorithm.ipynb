{
 "cells": [
  {
   "cell_type": "code",
   "execution_count": 1,
   "id": "0097464b-1b91-496d-90d2-2aa484f4bd63",
   "metadata": {},
   "outputs": [
    {
     "name": "stdout",
     "output_type": "stream",
     "text": [
      "Bubble sorted: [3, 7, 10, 11, 13, 26, 43]\n"
     ]
    }
   ],
   "source": [
    "def bubble_sort(arr):\n",
    "    n = len(arr)\n",
    "    for i in range(n):\n",
    "        for j in range(0, n-i-1):\n",
    "            if arr[j] > arr[j+1]:\n",
    "                arr[j], arr[j+1] = arr[j+1], arr[j]\n",
    "\n",
    "elements = [10, 7, 26, 43, 3, 13, 11]\n",
    "\n",
    "bubble_sorted = elements.copy()\n",
    "bubble_sort(bubble_sorted)\n",
    "print(\"Bubble sorted:\", bubble_sorted)\n"
   ]
  },
  {
   "cell_type": "code",
   "execution_count": 6,
   "id": "ccaea2fa-9486-4e78-b911-14c077d33259",
   "metadata": {},
   "outputs": [
    {
     "name": "stdout",
     "output_type": "stream",
     "text": [
      "Insertion sorted: [3, 7, 10, 11, 13, 26, 43]\n"
     ]
    }
   ],
   "source": [
    "def insertion_sort(arr):\n",
    "    for i in range(1, len(arr)):\n",
    "        key = arr[i]\n",
    "        j = i - 1\n",
    "        while j >= 0 and key < arr[j]:\n",
    "            arr[j + 1] = arr[j]\n",
    "            j -= 1\n",
    "        arr[j + 1] = key\n",
    "\n",
    "elements = [10, 7, 26, 43, 3, 13, 11]\n",
    "\n",
    "insertion_sorted = elements.copy()\n",
    "insertion_sort(insertion_sorted)\n",
    "print(\"Insertion sorted:\", insertion_sorted)"
   ]
  },
  {
   "cell_type": "code",
   "execution_count": null,
   "id": "ecb59290-58a9-4c16-9ee3-163ef7de3678",
   "metadata": {},
   "outputs": [],
   "source": [
    "Step 1: Heapify the last parent node (element at index 2).\n",
    "Given list: [10, 7, 26, 43, 3, 13, 11]\n",
    "Identify children of 26: 3 (left) and 13 (right).\n",
    "Swap 13 with 26: [10, 7, 13, 43, 3, 26, 11]\n",
    "\n",
    "Step 2: Heapify the next parent node (element at index 1).\n",
    "Given list: [10, 7, 13, 43, 3, 26, 11]\n",
    "Identify children of 7: 43 (left) and 3 (right).\n",
    "Swap 43 with 7: [10, 43, 13, 7, 3, 26, 11]\n",
    "\n",
    "Step 3: Heapify the parent node (element at index 0).\n",
    "Given list: [10, 43, 13, 7, 3, 26, 11]\n",
    "Identify children of 10: 43 (left) and 13 (right).\n",
    "Swap 43 with 10: [43, 10, 13, 7, 3, 26, 11]\n",
    "\n",
    "Step 3.1: Heapify the new position of 10 (element at index 1).\n",
    "Given list: [43, 10, 13, 7, 3, 26, 11]\n",
    "Identify children of 10: 7 (left) and 3 (right).\n",
    "Swap 7 with 10: [43, 7, 13, 10, 3, 26, 11]\n",
    "\n",
    "Step 4: Extract elements from the heap.\n",
    "Swap root element with the last unsorted element: [43, 7, 13, 10, 3, 26, 11] -> [11, 7, 13, 10, 3, 26, 43]\n",
    "\n",
    "Step 5: Heapify the new root element (element at index 0).\n",
    "Given list: [11, 7, 13, 10, 3, 26, 43]\n",
    "Identify children of 11: 7 (left) and 13 (right).\n",
    "Swap 13 with 11: [13, 7, 11, 10, 3, 26, 43]\n",
    "\n",
    "Step 6: Extract elements from the heap.\n",
    "Swap root element with the last unsorted element: [13, 7, 11, 10, 3, 26, 43] -> [3, 7, 11, 10, 13, 26, 43]\n",
    "\n",
    "Step 7: Heapify the new root element (element at index 0).\n",
    "Given list: [3, 7, 11, 10, 13, 26, 43]\n",
    "Identify children of 3: 7 (left) and 11 (right).\n",
    "No swaps needed.\n",
    "\n",
    "Now, all elements are sorted in ascending order: [3, 7, 10, 11, 13, 26, 43]."
   ]
  },
  {
   "cell_type": "code",
   "execution_count": 9,
   "id": "3eac319f-7cda-4e5e-8d01-0061304a398f",
   "metadata": {},
   "outputs": [
    {
     "name": "stdout",
     "output_type": "stream",
     "text": [
      "Element 11 found at index 3.\n"
     ]
    }
   ],
   "source": [
    "def binary_search(arr, target):\n",
    "    low, high = 0, len(arr) - 1\n",
    "    while low <= high:\n",
    "        mid = (low + high) // 2\n",
    "        if arr[mid] == target:\n",
    "            return mid\n",
    "        elif arr[mid] < target:\n",
    "            low = mid + 1\n",
    "        else:\n",
    "            high = mid - 1\n",
    "    return -1\n",
    "\n",
    "\n",
    "elements = [3, 7, 10, 11, 13, 26, 43]\n",
    "target = 11\n",
    "\n",
    "result = binary_search(elements, target)\n",
    "if result != -1:\n",
    "    print(f\"Element {target} found at index {result}.\")\n",
    "else:\n",
    "    print(f\"Element {target} not found.\")\n"
   ]
  },
  {
   "cell_type": "code",
   "execution_count": null,
   "id": "4bd2a83b-8683-4097-aaca-8e41fa3b8464",
   "metadata": {},
   "outputs": [],
   "source": [
    "Commence at the outset: The first item on the list is where the algorithm starts.\n",
    "\n",
    "Examine every component: The algorithm looks for matches between each element in the list and the target element.\n",
    "\n",
    "\n",
    "Found a match? The algorithm pauses and returns the index of the element where the match was found if the current element matches the target element.\n",
    "\n",
    "Go to the next element: The algorithm advances to the next element in the list and resumes the comparison procedure if the current element does not match the target element.\n",
    "\n",
    "Until the target element is located or the algorithm reaches the end of the list, steps 3 and 4 are repeated.\n",
    "    \n",
    "Target not found: The algorithm provides a special value (like -1) to indicate that the element is not present in the list if, after iterating through the complete list, the target element is not found."
   ]
  }
 ],
 "metadata": {
  "kernelspec": {
   "display_name": "Python 3 (ipykernel)",
   "language": "python",
   "name": "python3"
  },
  "language_info": {
   "codemirror_mode": {
    "name": "ipython",
    "version": 3
   },
   "file_extension": ".py",
   "mimetype": "text/x-python",
   "name": "python",
   "nbconvert_exporter": "python",
   "pygments_lexer": "ipython3",
   "version": "3.12.3"
  }
 },
 "nbformat": 4,
 "nbformat_minor": 5
}
